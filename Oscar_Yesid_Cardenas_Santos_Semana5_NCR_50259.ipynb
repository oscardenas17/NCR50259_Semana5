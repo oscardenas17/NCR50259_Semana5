{
  "nbformat": 4,
  "nbformat_minor": 0,
  "metadata": {
    "colab": {
      "provenance": []
    },
    "kernelspec": {
      "name": "python3",
      "display_name": "Python 3"
    },
    "language_info": {
      "name": "python"
    }
  },
  "cells": [
    {
      "cell_type": "markdown",
      "metadata": {
        "id": "9nL_0H702XOs"
      },
      "source": [
        "# Optimización de Parametros."
      ]
    },
    {
      "cell_type": "markdown",
      "metadata": {
        "id": "CU7pIgkhneIZ"
      },
      "source": [
        "# Entrenar el modelo con keras y tensorflow"
      ]
    },
    {
      "cell_type": "markdown",
      "metadata": {
        "id": "IvGoUK9gnW7N"
      },
      "source": [
        "1. **Cargue las librerias que necesite:numpy, matplotlib.pyplot,etc.**\n",
        "\n",
        "\n",
        "2. **Para cargar las librerias utilice  import seguido del nombre de la libreria y de un alias (as).Ejemplo import pandas as pd**\n",
        "\n",
        "\n",
        "3.   **Ejecute de forma secuencial de arriba hacia abajo las celdas de código dando click al boton play o ctrl+enter**\n",
        "   \n",
        "4. **Al ejecutar la celda debe marcar un check en color verde al lado izquierdo de la celda de código y en el menu de google colab en la parte superior derecha, se debe activar Ram y Disco con un check verde.**\n",
        "\n",
        "\n",
        "5. **El simbolo # es para comentarios dentro del código.**\n",
        "\n",
        "6. **Para subir un archivo a google colab se puede hacer click en la parte izquierda, donde aparace una carpeta y le da click al simbolo de una hoja con la flecha hacia arriba cargar archivo al almacenamiento de sesión.** "
      ]
    },
    {
      "cell_type": "markdown",
      "metadata": {
        "id": "n6VL35K55Xg-"
      },
      "source": [
        "Mnist un conjunto que esta dentro de keras.\n",
        "\n",
        "Conjunto de números escritos a mano digitalizados.\n",
        "\n",
        "Los números son:0,1,2,3,4,5,6,7,8,9\n",
        "\n",
        "En total son 10 números.\n",
        "\n",
        "Estos números estan en un dataset en keras.\n",
        "\n",
        "Cada imagen tiene 28 x 28 píxeles cuadrados (784 píxeles en total por cada imágen). Se utiliza una división  del conjunto de datos para evaluar y comparar modelos, en la que se utilizan 60.000 imágenes para formar un modelo(training) y un conjunto separado de 10.000 imágenes para probarlo(test)"
      ]
    },
    {
      "cell_type": "markdown",
      "metadata": {
        "id": "cXOwVB_v6NG0"
      },
      "source": [
        "**Para guardar el modelo se instala la libreria h5py**"
      ]
    },
    {
      "cell_type": "code",
      "metadata": {
        "colab": {
          "base_uri": "https://localhost:8080/"
        },
        "id": "OpnT0cgpu_ci",
        "outputId": "6748c079-10a3-4bf3-8487-babb4a4a8a17"
      },
      "source": [
        "pip install h5py"
      ],
      "execution_count": 183,
      "outputs": [
        {
          "output_type": "stream",
          "name": "stdout",
          "text": [
            "Looking in indexes: https://pypi.org/simple, https://us-python.pkg.dev/colab-wheels/public/simple/\n",
            "Requirement already satisfied: h5py in /usr/local/lib/python3.10/dist-packages (3.8.0)\n",
            "Requirement already satisfied: numpy>=1.14.5 in /usr/local/lib/python3.10/dist-packages (from h5py) (1.22.4)\n"
          ]
        }
      ]
    },
    {
      "cell_type": "markdown",
      "metadata": {
        "id": "Q7bTPv1I6uCb"
      },
      "source": [
        "**Observemos las imágenes de los numeros en escala de grises**"
      ]
    },
    {
      "cell_type": "markdown",
      "metadata": {
        "id": "M7eT-TOu7C28"
      },
      "source": [
        " #El dataset esta compuesto por 4 particiones\n",
        " #Entrenamiento y prueba para X y para Y (60000 y 10000) \n",
        "1.   x_train:entrada de la red neuronal(entrenar la red)\n",
        "2.   y_train:salida de la red neuronal(entrenar la red)\n",
        "3. x_test:entrada de prueba del red neuronal(probrando la red neuronal)\n",
        "4. y_test:salida de prueba de la red neuronal(probrando la red neuronal)\n",
        "5. mnist.load_data():Carga los números desde Keras al Notebook\n",
        "\n"
      ]
    },
    {
      "cell_type": "markdown",
      "metadata": {
        "id": "mnB_4B5K8teK"
      },
      "source": [
        "Para graficar los números.\n",
        "\n",
        "* Se puede escribir subplot(224) ó subplot(2,2,4)\n",
        "* Especifica num_filas, num_columnas, numplot\n",
        "\n"
      ]
    },
    {
      "cell_type": "code",
      "metadata": {
        "colab": {
          "base_uri": "https://localhost:8080/",
          "height": 411
        },
        "id": "k_riTeoB3FLG",
        "outputId": "5246a447-2e51-4141-e486-f7de6c32c373"
      },
      "source": [
        "from keras.datasets import mnist\n",
        "import matplotlib.pyplot as plt\n",
        "# cargar (descargar si es necesario) el conjunto de datos MNIST\n",
        "(x_train, y_train), (x_test, y_test) = mnist.load_data()\n",
        "# plot 6 imagenes en escala de grises\n",
        "plt.subplot(2,3,1)\n",
        "plt.imshow(x_train[1], cmap=plt.get_cmap('gray'))\n",
        "plt.subplot(2,3,2)\n",
        "plt.imshow(x_train[15], cmap=plt.get_cmap('gray'))\n",
        "plt.subplot(2,3,3)\n",
        "plt.imshow(x_train[35], cmap=plt.get_cmap('gray'))\n",
        "plt.subplot(2,3,4)\n",
        "plt.imshow(x_train[5675], cmap=plt.get_cmap('gray'))\n",
        "plt.subplot(2,3,5)\n",
        "plt.imshow(x_train[653], cmap=plt.get_cmap('gray'))\n",
        "plt.subplot(2,3,6)\n",
        "plt.imshow(x_train[67], cmap=plt.get_cmap('gray'))\n",
        "# Muestra el gráfico de los 4 numeros\n",
        "plt.show()"
      ],
      "execution_count": 184,
      "outputs": [
        {
          "output_type": "display_data",
          "data": {
            "text/plain": [
              "<Figure size 640x480 with 6 Axes>"
            ],
            "image/png": "[encoded data removed]"
          },
          "metadata": {}
        }
      ]
    },
    {
      "cell_type": "markdown",
      "source": [
        "# Creación del modelo"
      ],
      "metadata": {
        "id": "2EkeMz6UQI9E"
      }
    },
    {
      "cell_type": "code",
      "metadata": {
        "id": "FIX-OJowr548"
      },
      "source": [
        "import numpy as np\n",
        "from keras.datasets import mnist\n",
        "#Utils para poder usar categorización\n",
        "from keras.utils import np_utils\n",
        "from keras.models import Sequential\n",
        "from keras.layers import Dense\n",
        "from tensorflow import keras\n",
        "from tensorflow.keras.optimizers import SGD\n",
        " "
      ],
      "execution_count": 185,
      "outputs": []
    },
    {
      "cell_type": "markdown",
      "source": [
        "## Carga de dataset"
      ],
      "metadata": {
        "id": "1LqafIDTRSw1"
      }
    },
    {
      "cell_type": "code",
      "source": [
        "# Cargar datos\n",
        "(x_train,y_train),(x_test,y_test) = mnist.load_data()\n",
        "# (60000,28,28)\n",
        "print('x_shape:',x_train.shape)\n",
        "# (60000)\n",
        "print('y_shape:',y_train.shape)\n",
        "# (60000,28,28)->(60000,784)(salida)\n"
      ],
      "metadata": {
        "colab": {
          "base_uri": "https://localhost:8080/"
        },
        "id": "hhx3Gu6ERW_a",
        "outputId": "89aa4d1a-737b-452d-fc4b-6295850d6a81"
      },
      "execution_count": 186,
      "outputs": [
        {
          "output_type": "stream",
          "name": "stdout",
          "text": [
            "x_shape: (60000, 28, 28)\n",
            "y_shape: (60000,)\n"
          ]
        }
      ]
    },
    {
      "cell_type": "markdown",
      "source": [
        "# Normalización de datos - Imágenes"
      ],
      "metadata": {
        "id": "Rk7-EItpRvX7"
      }
    },
    {
      "cell_type": "code",
      "source": [
        "\n",
        "#normalizar imagenes (60000,28,28) => (6000,784)(salida)\n",
        "x_train = x_train.reshape(x_train.shape[0],-1)/255.0 #(se divide por 255 pixeles,para tener numeros entre 0 y 1)\n",
        "x_test = x_test.reshape(x_test.shape[0],-1)/255.0\n",
        "#visualizar tamaño de las salidas\n",
        "print('x_train', x_train.shape)\n",
        "print('x_test', x_test.shape)"
      ],
      "metadata": {
        "colab": {
          "base_uri": "https://localhost:8080/"
        },
        "id": "w2dRnemVRvFA",
        "outputId": "abd4ae8e-d5e6-4c93-f062-409f752b69b7"
      },
      "execution_count": 187,
      "outputs": [
        {
          "output_type": "stream",
          "name": "stdout",
          "text": [
            "x_train (60000, 784)\n",
            "x_test (10000, 784)\n"
          ]
        }
      ]
    },
    {
      "cell_type": "markdown",
      "source": [
        "# Categorización de variable objetivo y"
      ],
      "metadata": {
        "id": "JihBn9qwTGpD"
      }
    },
    {
      "cell_type": "code",
      "source": [
        " #Cambiar a un formato por categorias (10 debibo a los numeros 0,1,2..9)\n",
        "y_train = np_utils.to_categorical(y_train,num_classes=10)\n",
        "y_test = np_utils.to_categorical(y_test,num_classes=10)\n",
        " \n"
      ],
      "metadata": {
        "id": "P7STHR3YTL9o"
      },
      "execution_count": 188,
      "outputs": []
    },
    {
      "cell_type": "markdown",
      "source": [
        "#Definición del modelo"
      ],
      "metadata": {
        "id": "OidzZFnQTi75"
      }
    },
    {
      "cell_type": "code",
      "source": [
        "#Se crea el modelo .Sequential, se crea una capa densa con 784 entradas y 10 neuronas\n",
        "# Se determina el modo en que los valores de los sesgos (BIAS) serán inicializados aleatoriamente al inicio del entrenamiento\n",
        "# la activacion softmax es para dar la probabilidad del numero \n",
        "model = Sequential([\n",
        "        Dense(units=10,input_dim=784,bias_initializer='ones',activation='softmax')\n",
        "    ])\n",
        "\n",
        "#Ver características del modelo\n",
        "model.summary()\n",
        "\n",
        " \n"
      ],
      "metadata": {
        "colab": {
          "base_uri": "https://localhost:8080/"
        },
        "id": "TQfgE7GSTnYF",
        "outputId": "6b0a1bc8-06cc-4546-e6ee-c802e01c54d3"
      },
      "execution_count": 189,
      "outputs": [
        {
          "output_type": "stream",
          "name": "stdout",
          "text": [
            "Model: \"sequential_26\"\n",
            "_________________________________________________________________\n",
            " Layer (type)                Output Shape              Param #   \n",
            "=================================================================\n",
            " dense_53 (Dense)            (None, 10)                7850      \n",
            "                                                                 \n",
            "=================================================================\n",
            "Total params: 7,850\n",
            "Trainable params: 7,850\n",
            "Non-trainable params: 0\n",
            "_________________________________________________________________\n"
          ]
        }
      ]
    },
    {
      "cell_type": "markdown",
      "source": [
        "### Primer hiperparámetro: learning Rate"
      ],
      "metadata": {
        "id": "U8NqHjTGSme8"
      }
    },
    {
      "cell_type": "markdown",
      "source": [
        "El learning rate es el porcentaje de cambio con el que se actualizan los pesos en cada iteración, en otras palabras, cada que se realiza una iteración en el proceso de entrenamiento se deben actualizar los pesos de la entrada para poder dar cada vez una mejor aproximación.\n",
        "Este trabajo, de calcular el error de los pesos se puede hacer con el algoritmo SGD o con ADAM , y en cada iteración calcula un nuevo valor para los pesos. Así que el learning rate nos dice que tanto actualizamos los pesos en cada iteración, en un rango de 0 a 1.\n",
        "Ahora el hecho de poner un valor muy carcano a 1 podria cometer errores y no obtendriamos un modelo de predicción adecuado, pero si ponemos un valor muy pequeño este entrenamiento podria ser demasiado lento para acercarnos a una predicción aceptable."
      ],
      "metadata": {
        "id": "xTapqVbeSvou"
      }
    },
    {
      "cell_type": "markdown",
      "source": [
        "## Compilar modelo"
      ],
      "metadata": {
        "id": "fLy-zHXMVVdi"
      }
    },
    {
      "cell_type": "code",
      "source": [
        "#Se compila la red, se define optimizador, función de pérdida y precisión de cálculo durante el entrenamiento\n",
        "# Definir optimizador, función de pérdida, precisión de cálculo durante el entrenamiento\n",
        "sgd = SGD(learning_rate=0.2)\n",
        "model.compile(\n",
        "    optimizer = sgd,\n",
        "    loss = 'mse',# funcion de perdida mse(error cuadratico media)\n",
        "    metrics=['accuracy'],# metrica, efectividad del modelo\n",
        ")\n",
        " \n"
      ],
      "metadata": {
        "id": "z2hfw05FVZrr"
      },
      "execution_count": 190,
      "outputs": []
    },
    {
      "cell_type": "markdown",
      "source": [
        "# Entrenamiento y evaluación del modelo\n",
        "\n",
        "* Segundo hiperparámetro: Batch Size (tamaño del lote)\n",
        "Se especifica el tamaño del lote (# de filas del dataset que se copnsiderarán antes de que el modelo actualice los pesos)\n",
        "* Tercer hiperparámetro: Epochs\n",
        "El proceso de entrenamiento se implementará mediante la ejecuçión de un # determinado de epocas a través del dataset.En cada ciclo todos los datos de entrenamiento pasan por la red neuronal para que esta aprenda sobre ellos, si existen 5 ciclos y 60000 datos, en cada ciclo los 60000 datos pasarán por la red neuronal"
      ],
      "metadata": {
        "id": "3Buo0XScGbJs"
      }
    },
    {
      "cell_type": "code",
      "source": [
        "#  Entrenamiento del modelo\n",
        "# batch_size= Es el numero de datos que tiene cada iteración \n",
        "#de un ciclo (epoch), esto es util porqué la red \n",
        "#neuronal actualiza los parametros W (pesos)\n",
        "\n",
        "# epochs=Este es el número de veces que se ejecutaran los algoritmos de forwardpropagation y backpropagation. \n",
        "#En cada ciclo (epoch) todos los datos de entrenamiento pasan por la red neuronal\n",
        "# para que esta aprenda sobre ellos, si existen 10 ciclos y 1000 datos, # en cada ciclo los 1000 datos pasaran por la red neuronal\n",
        "\n",
        "\n",
        "model.fit(x_train,y_train,batch_size=64,epochs=10)\n",
        " \n",
        "\n"
      ],
      "metadata": {
        "colab": {
          "base_uri": "https://localhost:8080/"
        },
        "id": "_ZRoX4ihGhbM",
        "outputId": "a2978765-bb67-481c-f4fb-82681bada506"
      },
      "execution_count": 191,
      "outputs": [
        {
          "output_type": "stream",
          "name": "stdout",
          "text": [
            "Epoch 1/10\n",
            "938/938 [==============================] - 3s 3ms/step - loss: 0.0505 - accuracy: 0.6854\n",
            "Epoch 2/10\n",
            "938/938 [==============================] - 4s 4ms/step - loss: 0.0256 - accuracy: 0.8588\n",
            "Epoch 3/10\n",
            "938/938 [==============================] - 5s 5ms/step - loss: 0.0213 - accuracy: 0.8770\n",
            "Epoch 4/10\n",
            "938/938 [==============================] - 7s 8ms/step - loss: 0.0193 - accuracy: 0.8866\n",
            "Epoch 5/10\n",
            "938/938 [==============================] - 8s 9ms/step - loss: 0.0181 - accuracy: 0.8918\n",
            "Epoch 6/10\n",
            "938/938 [==============================] - 6s 6ms/step - loss: 0.0173 - accuracy: 0.8953\n",
            "Epoch 7/10\n",
            "938/938 [==============================] - 3s 3ms/step - loss: 0.0166 - accuracy: 0.8988\n",
            "Epoch 8/10\n",
            "938/938 [==============================] - 2s 2ms/step - loss: 0.0161 - accuracy: 0.9016\n",
            "Epoch 9/10\n",
            "938/938 [==============================] - 2s 2ms/step - loss: 0.0158 - accuracy: 0.9036\n",
            "Epoch 10/10\n",
            "938/938 [==============================] - 3s 3ms/step - loss: 0.0154 - accuracy: 0.9050\n"
          ]
        },
        {
          "output_type": "execute_result",
          "data": {
            "text/plain": [
              "<keras.callbacks.History at 0x7fa76f923790>"
            ]
          },
          "metadata": {},
          "execution_count": 191
        }
      ]
    },
    {
      "cell_type": "markdown",
      "source": [
        "# 6.Evaluar el modelo con loss y accuraccy loss"
      ],
      "metadata": {
        "id": "CxonrxLe0Lzv"
      }
    },
    {
      "cell_type": "code",
      "source": [
        "#  Evaluación del modelo con loss y accuracy\n",
        "loss,accuracy = model.evaluate(x_test,y_test)\n",
        " \n",
        "print('\\ntest loss',loss)\n",
        "print('accuracy',accuracy)"
      ],
      "metadata": {
        "colab": {
          "base_uri": "https://localhost:8080/"
        },
        "id": "HNR_AEjo0QrW",
        "outputId": "3e79dca9-6b81-474a-d420-446dd8350e1e"
      },
      "execution_count": 192,
      "outputs": [
        {
          "output_type": "stream",
          "name": "stdout",
          "text": [
            "313/313 [==============================] - 1s 2ms/step - loss: 0.0144 - accuracy: 0.9113\n",
            "\n",
            "test loss 0.014419381506741047\n",
            "accuracy 0.911300003528595\n"
          ]
        }
      ]
    },
    {
      "cell_type": "markdown",
      "source": [
        "# Guardar el modelo en formato h5py"
      ],
      "metadata": {
        "id": "JDIQltkkQkcG"
      }
    },
    {
      "cell_type": "code",
      "source": [
        "# Guardar el modelo con extension .h5\n",
        "model.save('modeloinicial.h5')# pip install h5py"
      ],
      "metadata": {
        "id": "Y5I3_7AwTuYH"
      },
      "execution_count": 193,
      "outputs": []
    },
    {
      "cell_type": "markdown",
      "source": [
        "# Entrenar nuevamente el modelo\n",
        "Se cargara el archivo creado anteriormente con model.save"
      ],
      "metadata": {
        "id": "Tj6JrBfsTwwh"
      }
    },
    {
      "cell_type": "markdown",
      "metadata": {
        "id": "qXfNyubnGtv8"
      },
      "source": [
        "**Cargar el modeloinicial.h5**"
      ]
    },
    {
      "cell_type": "code",
      "metadata": {
        "id": "C0-jnvV5vV_E"
      },
      "source": [
        "import numpy as np\n",
        "from keras.datasets import mnist\n",
        "from keras.utils import np_utils\n",
        "from keras.models import Sequential\n",
        "from keras.layers import Dense\n",
        "from tensorflow.keras.optimizers import SGD\n",
        "from keras.models import load_model\n"
      ],
      "execution_count": 194,
      "outputs": []
    },
    {
      "cell_type": "markdown",
      "source": [
        "# Carga de dataset y visualizar tamaño"
      ],
      "metadata": {
        "id": "wlGG7gxKWbes"
      }
    },
    {
      "cell_type": "code",
      "source": [
        "# Cargar datos\n",
        "(x_train,y_train),(x_test,y_test) = mnist.load_data()\n",
        "# (60000,28,28)\n",
        "print('x_shape:',x_train.shape)\n",
        "# (60000)\n",
        "print('y_shape:',y_train.shape)\n"
      ],
      "metadata": {
        "colab": {
          "base_uri": "https://localhost:8080/"
        },
        "id": "2c8cBhM-WfrL",
        "outputId": "756dda71-5484-469a-9a9b-0241bb1ab546"
      },
      "execution_count": 195,
      "outputs": [
        {
          "output_type": "stream",
          "name": "stdout",
          "text": [
            "x_shape: (60000, 28, 28)\n",
            "y_shape: (60000,)\n"
          ]
        }
      ]
    },
    {
      "cell_type": "markdown",
      "source": [
        "# Normalizar y categorizar datos"
      ],
      "metadata": {
        "id": "6oBsGemKWrUL"
      }
    },
    {
      "cell_type": "code",
      "source": [
        "# (60000,28,28)->(60000,784)\n",
        "x_train = x_train.reshape(x_train.shape[0],-1)/255.0\n",
        "x_test = x_test.reshape(x_test.shape[0],-1)/255.0\n",
        "# Cambiar a un formato de categorias son 10 (el numero total de números)\n",
        "y_train = np_utils.to_categorical(y_train,num_classes=10)\n",
        "y_test = np_utils.to_categorical(y_test,num_classes=10)\n",
        " \n"
      ],
      "metadata": {
        "id": "AE5k9tqHWtn1"
      },
      "execution_count": 196,
      "outputs": []
    },
    {
      "cell_type": "markdown",
      "source": [
        "# Carga del modelo y evaluación\n"
      ],
      "metadata": {
        "id": "EgQ-OoXcW1zj"
      }
    },
    {
      "cell_type": "code",
      "source": [
        "# Carga el modelo.\n",
        "model = load_model('/content/modeloinicial.h5')\n",
        " \n",
        "\n",
        "\n",
        " # Evaluar el modelo.\n",
        "loss,accuracy = model.evaluate(x_test,y_test)\n",
        " \n",
        "print('\\ntest loss',loss)\n",
        "print('accuracy',accuracy)\n"
      ],
      "metadata": {
        "colab": {
          "base_uri": "https://localhost:8080/"
        },
        "id": "VJpurdUFW380",
        "outputId": "2a507ec5-12e5-4f58-846f-38d577a84973"
      },
      "execution_count": 197,
      "outputs": [
        {
          "output_type": "stream",
          "name": "stdout",
          "text": [
            "313/313 [==============================] - 1s 2ms/step - loss: 0.0144 - accuracy: 0.9113\n",
            "\n",
            "test loss 0.014419381506741047\n",
            "accuracy 0.911300003528595\n"
          ]
        }
      ]
    },
    {
      "cell_type": "markdown",
      "source": [
        "\n",
        "#Ajustamos el modelo"
      ],
      "metadata": {
        "id": "gvwZT6Lq_z6y"
      }
    },
    {
      "cell_type": "code",
      "source": [
        "#modelo de entrenamiento, ajustar el modelo (Probar con valores distintos de hiperparametros)\n",
        "model.fit(x_train, y_train, batch_size=64, epochs=2)\n",
        "\n",
        "#Modelo de evaluación con función de perdida y precisión\n",
        "loss, accuracy =model.evaluate(x_test, y_test)\n",
        "\n",
        "#visualizar los valores de la función de perdida y precisión\n",
        "print('\\ntest loss',loss)\n",
        "print('accuracy',accuracy)\n"
      ],
      "metadata": {
        "colab": {
          "base_uri": "https://localhost:8080/"
        },
        "id": "YVZuVGo8_-hu",
        "outputId": "502ddba5-c0ab-446b-e847-d8440ea79a3e"
      },
      "execution_count": 198,
      "outputs": [
        {
          "output_type": "stream",
          "name": "stdout",
          "text": [
            "Epoch 1/2\n",
            "938/938 [==============================] - 2s 2ms/step - loss: 0.0151 - accuracy: 0.9067\n",
            "Epoch 2/2\n",
            "938/938 [==============================] - 3s 3ms/step - loss: 0.0149 - accuracy: 0.9079\n",
            "313/313 [==============================] - 1s 2ms/step - loss: 0.0140 - accuracy: 0.9129\n",
            "\n",
            "test loss 0.014010111801326275\n",
            "accuracy 0.9128999710083008\n"
          ]
        }
      ]
    },
    {
      "cell_type": "markdown",
      "source": [
        "# Guardar los pesos de la red para usos posteriores\n",
        "\n",
        "Keras da la posibilidad de guardad la arquitectura del modelo y guardar los pesos del modelo, Los pesos de los modelos se guardan en formato HDF%, Este es un formato de cuadricula que es ideal para almacenar matrices multidimensionales de números. La estructura modelo puede describirse y grabarse (y cargarse) utilizando dos formatos diferentes: JSON y YAML. \n"
      ],
      "metadata": {
        "id": "fbWFQ6U2UPwV"
      }
    },
    {
      "cell_type": "markdown",
      "source": [],
      "metadata": {
        "id": "ZxiyDnuz_-WL"
      }
    },
    {
      "cell_type": "code",
      "source": [
        "#Guardar pesos de modelo\n",
        "model.save_weights('model_pesos.h5')\n",
        "\n",
        "#cargar pesos de red (modelo) pasar utilizarlos en otro código\n",
        "model.load_weights('model_pesos.h5')"
      ],
      "metadata": {
        "id": "n85nNI2eU0DF"
      },
      "execution_count": 199,
      "outputs": []
    },
    {
      "cell_type": "markdown",
      "source": [
        "# Guardar la estrucutra de red-modelo"
      ],
      "metadata": {
        "id": "gO6YDKojV3Dc"
      }
    },
    {
      "cell_type": "code",
      "source": [
        "#Guardar la estructura de la red\n",
        "from keras.models import model_from_json\n",
        "# se crean variables para el archivo mediante model_to_json\n",
        "json_string = model.to_json()\n",
        "model = model_from_json(json_string)\n",
        "\n",
        "#Se visualiza el archivo creado en formato json\n",
        "print(json_string)"
      ],
      "metadata": {
        "colab": {
          "base_uri": "https://localhost:8080/"
        },
        "id": "V1IdN-nGV82P",
        "outputId": "135d67f3-f869-4c1d-fab7-76c860bc3b60"
      },
      "execution_count": 200,
      "outputs": [
        {
          "output_type": "stream",
          "name": "stdout",
          "text": [
            "{\"class_name\": \"Sequential\", \"config\": {\"name\": \"sequential_26\", \"layers\": [{\"class_name\": \"InputLayer\", \"config\": {\"batch_input_shape\": [null, 784], \"dtype\": \"float32\", \"sparse\": false, \"ragged\": false, \"name\": \"dense_53_input\"}}, {\"class_name\": \"Dense\", \"config\": {\"name\": \"dense_53\", \"trainable\": true, \"dtype\": \"float32\", \"batch_input_shape\": [null, 784], \"units\": 10, \"activation\": \"softmax\", \"use_bias\": true, \"kernel_initializer\": {\"class_name\": \"GlorotUniform\", \"config\": {\"seed\": null}}, \"bias_initializer\": {\"class_name\": \"Ones\", \"config\": {}}, \"kernel_regularizer\": null, \"bias_regularizer\": null, \"activity_regularizer\": null, \"kernel_constraint\": null, \"bias_constraint\": null}}]}, \"keras_version\": \"2.12.0\", \"backend\": \"tensorflow\"}\n"
          ]
        }
      ]
    },
    {
      "cell_type": "markdown",
      "metadata": {
        "id": "sEUEl47Em6IP"
      },
      "source": [
        "**Imprimir las capas del modelo de red neuronal**"
      ]
    },
    {
      "cell_type": "code",
      "metadata": {
        "colab": {
          "base_uri": "https://localhost:8080/"
        },
        "id": "oG2OhSOexyex",
        "outputId": "f0008273-c66e-413a-d9da-23e592da2456"
      },
      "source": [
        "print(model.summary())"
      ],
      "execution_count": 201,
      "outputs": [
        {
          "output_type": "stream",
          "name": "stdout",
          "text": [
            "Model: \"sequential_26\"\n",
            "_________________________________________________________________\n",
            " Layer (type)                Output Shape              Param #   \n",
            "=================================================================\n",
            " dense_53 (Dense)            (None, 10)                7850      \n",
            "                                                                 \n",
            "=================================================================\n",
            "Total params: 7,850\n",
            "Trainable params: 7,850\n",
            "Non-trainable params: 0\n",
            "_________________________________________________________________\n",
            "None\n"
          ]
        }
      ]
    },
    {
      "cell_type": "markdown",
      "source": [
        "# Predicciones"
      ],
      "metadata": {
        "id": "QrxMpSWUcdnr"
      }
    },
    {
      "cell_type": "markdown",
      "metadata": {
        "id": "AcSzVSjgumWY"
      },
      "source": [
        "Para hacer la prediccion de la imagen , la probabilidad debe sumar 1.\n",
        "\n",
        "La función model.precit genera la predicción mediante un array de numpy, cuyos valores deberian sumar 1 para ser acertada\n"
      ]
    },
    {
      "cell_type": "code",
      "metadata": {
        "id": "fjCQ7cQZuF4C",
        "colab": {
          "base_uri": "https://localhost:8080/"
        },
        "outputId": "a44af290-b401-47c1-f697-de20783fada5"
      },
      "source": [
        "#variable para implementar func predict sobre el datasetde prueba\n",
        "prediccion = model.predict(x_test)\n"
      ],
      "execution_count": 202,
      "outputs": [
        {
          "output_type": "stream",
          "name": "stdout",
          "text": [
            "313/313 [==============================] - 0s 1ms/step\n"
          ]
        }
      ]
    },
    {
      "cell_type": "markdown",
      "metadata": {
        "id": "-L38zNoYsXHE"
      },
      "source": []
    },
    {
      "cell_type": "code",
      "metadata": {
        "colab": {
          "base_uri": "https://localhost:8080/"
        },
        "id": "6YF3Ui-er5IW",
        "outputId": "9e049461-9649-4995-f20d-011ab5e24556"
      },
      "source": [
        "prediccion[1]"
      ],
      "execution_count": 203,
      "outputs": [
        {
          "output_type": "execute_result",
          "data": {
            "text/plain": [
              "array([0.14133655, 0.0787134 , 0.14237711, 0.05047542, 0.0786586 ,\n",
              "       0.08827558, 0.11518029, 0.04771195, 0.17683683, 0.08043426],\n",
              "      dtype=float32)"
            ]
          },
          "metadata": {},
          "execution_count": 203
        }
      ]
    },
    {
      "cell_type": "markdown",
      "metadata": {
        "id": "RRD9v4zYvH4R"
      },
      "source": [
        "**La probabilidad debe sumar 1**"
      ]
    },
    {
      "cell_type": "code",
      "metadata": {
        "colab": {
          "base_uri": "https://localhost:8080/"
        },
        "id": "o2Q51I5vuvAy",
        "outputId": "672893e5-fbbe-469c-f3be-57ca4a6bf33e"
      },
      "source": [
        "0.10600662+0.11935961+0.07660822+0.03747414+0.1583629+0.20245598+0.09627097+0.05417712+0.05825273+0.09103162"
      ],
      "execution_count": 204,
      "outputs": [
        {
          "output_type": "execute_result",
          "data": {
            "text/plain": [
              "0.9999999099999999"
            ]
          },
          "metadata": {},
          "execution_count": 204
        }
      ]
    },
    {
      "cell_type": "code",
      "source": [
        "prediccion[500]"
      ],
      "metadata": {
        "colab": {
          "base_uri": "https://localhost:8080/"
        },
        "id": "7ZzodY_4qzPm",
        "outputId": "89822d46-9a3b-4093-c53f-9d3b74ebaf67"
      },
      "execution_count": 205,
      "outputs": [
        {
          "output_type": "execute_result",
          "data": {
            "text/plain": [
              "array([0.07101509, 0.07402647, 0.11644579, 0.10265812, 0.06251503,\n",
              "       0.07775152, 0.11500736, 0.05614375, 0.24297975, 0.08145705],\n",
              "      dtype=float32)"
            ]
          },
          "metadata": {},
          "execution_count": 205
        }
      ]
    },
    {
      "cell_type": "code",
      "source": [
        "0.04054708+ 0.02699727+ 0.08176648+ 0.08687837+ 0.15303218+0.13854475+ 0.03150181+ 0.16656823+ 0.15180527 + 0.12235852"
      ],
      "metadata": {
        "colab": {
          "base_uri": "https://localhost:8080/"
        },
        "id": "db7W8K19q3K8",
        "outputId": "3a8c2570-f638-4fcc-a425-14b14c99c2b9"
      },
      "execution_count": 206,
      "outputs": [
        {
          "output_type": "execute_result",
          "data": {
            "text/plain": [
              "0.9999999599999999"
            ]
          },
          "metadata": {},
          "execution_count": 206
        }
      ]
    },
    {
      "cell_type": "markdown",
      "metadata": {
        "id": "7qDUPhLayTIo"
      },
      "source": [
        "**Cada valor corresponde a la probabilidad que sea el numero 0,1,2,3 hasta el 9.**\n",
        "\n",
        "**Esta probabilidad sale cuando definimos el modelo de la red neuronal secuencial utilizando activation='softmax'**"
      ]
    },
    {
      "cell_type": "code",
      "source": [],
      "metadata": {
        "id": "UzmHdlmYDcoV"
      },
      "execution_count": null,
      "outputs": []
    },
    {
      "cell_type": "markdown",
      "source": [
        "# ***Inicio Actividad Semana 5***"
      ],
      "metadata": {
        "id": "DK1Np8TBDdvW"
      }
    },
    {
      "cell_type": "markdown",
      "metadata": {
        "id": "nxIyPCIboIDf"
      },
      "source": [
        "# **Realice lo siguiente:**"
      ]
    },
    {
      "cell_type": "markdown",
      "metadata": {
        "id": "dGRAuAkLViGm"
      },
      "source": [
        "\n",
        "*   Modifique el tipo de optimizador por ejemplo optimizer='adam'\n",
        "*   Modifique los valores de learning rate, ejemplo lr=0.001\n",
        "\n",
        "*   Modifique epochs,batch_size,ejemplo epochs=10, batch_size=200\n",
        "\n",
        "*   Agregue una capa oculta al modelo con 784 neuronas.\n",
        "\n",
        "*   Modifique Dropout, ejemplo Dropout=0.2. Esto permite excluir aleatoriamente el 20% de las neuronas en el entrenamiento para evitar el sobreajuste\n",
        "\n",
        "*    Evalue el modelo con loss y accuracy\n",
        "loss,accuracy = model.evaluate(x_test,y_test)\n",
        "\n",
        "\n",
        "\n",
        "*   Modifique loss dentro de model.compile(), ejemplo loss='categorical_crossentropy'\n",
        "\n",
        "*   Imprima las capas de neuronas del modelo print(model.summary())\n",
        "\n",
        "*   Guarde el modelo model.save('modeloinicial.h5')# pip install h5py\n",
        "\n",
        "*  Guarde los pesos del modelo mediante: model.save_weights('model_pesos.h5')\n",
        "\n"
      ]
    },
    {
      "cell_type": "markdown",
      "source": [
        "## Carga de dataset, creación de variables, normalización y categorización"
      ],
      "metadata": {
        "id": "xeWvu_BM7Q2S"
      }
    },
    {
      "cell_type": "code",
      "source": [
        "#Importación librerias necesarias\n",
        "from keras.models import Sequential\n",
        "from keras.layers import Dense, Dropout\n",
        "from keras.optimizers import Adam\n",
        "from keras.datasets import mnist\n",
        "from keras.utils import to_categorical"
      ],
      "metadata": {
        "id": "xvTvJT0h9-rP"
      },
      "execution_count": 207,
      "outputs": []
    },
    {
      "cell_type": "code",
      "source": [
        "# cargar (descargar si es necesario) el conjunto de datos MNIST\n",
        "(x_train, y_train), (x_test, y_test) = mnist.load_data()\n",
        "\n",
        "\n",
        "# Cargar datos\n",
        "(x_train,y_train),(x_test,y_test) = mnist.load_data()\n",
        "# (60000,28,28)\n",
        "print('x_shape:',x_train.shape)\n",
        "# (60000)\n",
        "print('y_shape:',y_train.shape)\n",
        "# (60000,28,28)->(60000,784)(salida)\n",
        "\n",
        "#normalizar imagenes (60000,28,28) => (6000,784)(salida)\n",
        "x_train = x_train.reshape(60000, 784).astype('float32') / 255.0\n",
        "x_test = x_test.reshape(10000, 784).astype('float32') / 255.0\n",
        "#visualizar tamaño de las salidas\n",
        "print('x_train', x_train.shape)\n",
        "print('x_test', x_test.shape)\n",
        "\n",
        "\n",
        " #Cambiar a un formato por categorias (10 debibo a los numeros 0,1,2..9)\n",
        "y_train = np_utils.to_categorical(y_train,num_classes=10)\n",
        "y_test = np_utils.to_categorical(y_test,num_classes=10)"
      ],
      "metadata": {
        "colab": {
          "base_uri": "https://localhost:8080/"
        },
        "id": "8TdkHfNR7Yii",
        "outputId": "e2fe8a8c-b74b-457f-9dee-40796cc50bab"
      },
      "execution_count": 208,
      "outputs": [
        {
          "output_type": "stream",
          "name": "stdout",
          "text": [
            "x_shape: (60000, 28, 28)\n",
            "y_shape: (60000,)\n",
            "x_train (60000, 784)\n",
            "x_test (10000, 784)\n"
          ]
        }
      ]
    },
    {
      "cell_type": "code",
      "source": [
        "# Crear el modelo\n",
        "model = Sequential()\n",
        "#Agregue una capa oculta al modelo con 784 neuronas.\n",
        "model.add(Dense(784, activation='relu', input_shape=(784,)))\n",
        "#Modifique Dropout, ejemplo Dropout=0.2\n",
        "model.add(Dropout(0.2))  # Dropout para evitar el sobreajuste\n",
        "model.add(Dense(10, activation='softmax'))\n",
        "\n",
        "\n",
        "# Compilar el modelo\n",
        "#Modifique el tipo de optimizador por ejemplo optimizer='adam'\n",
        "optimizer = Adam(learning_rate=0.001)\n",
        "\n",
        "#Modifique loss dentro de model.compile(), ejemplo loss='categorical_crossentropy'\n",
        "loss = 'categorical_crossentropy'  # Modificar la función de pérdida\n",
        "model.compile(optimizer=optimizer, loss=loss, metrics=['accuracy'])\n",
        "\n",
        "\n",
        "#Imprima las capas de neuronas del modelo print(model.summary())\n",
        "print(model.summary())\n"
      ],
      "metadata": {
        "colab": {
          "base_uri": "https://localhost:8080/"
        },
        "id": "kYK9PqeM2icd",
        "outputId": "618a752c-c97c-4cf7-de79-485fbc3d570a"
      },
      "execution_count": 209,
      "outputs": [
        {
          "output_type": "stream",
          "name": "stdout",
          "text": [
            "Model: \"sequential_27\"\n",
            "_________________________________________________________________\n",
            " Layer (type)                Output Shape              Param #   \n",
            "=================================================================\n",
            " dense_54 (Dense)            (None, 784)               615440    \n",
            "                                                                 \n",
            " dropout_19 (Dropout)        (None, 784)               0         \n",
            "                                                                 \n",
            " dense_55 (Dense)            (None, 10)                7850      \n",
            "                                                                 \n",
            "=================================================================\n",
            "Total params: 623,290\n",
            "Trainable params: 623,290\n",
            "Non-trainable params: 0\n",
            "_________________________________________________________________\n",
            "None\n"
          ]
        }
      ]
    },
    {
      "cell_type": "markdown",
      "source": [
        "# Entrenar el modelo"
      ],
      "metadata": {
        "id": "irvNODEF_WSG"
      }
    },
    {
      "cell_type": "code",
      "source": [
        "\n",
        "#Modifique epochs,batch_size,ejemplo epochs=10, batch_size=200\n",
        "epochs = 10  # Modificar el número de épocas\n",
        "batch_size = 200  # Modificar el tamaño del lote\n",
        "model.fit(x_train, y_train, epochs=epochs, batch_size=batch_size, verbose=1)\n",
        "\n",
        "\n",
        "#Evalue el modelo con loss y accuracy loss,accuracy = model.evaluate(x_test,y_test)\n",
        "loss, accuracy = model.evaluate(x_test, y_test)\n",
        "print('Loss:', loss)\n",
        "print('Accuracy:', accuracy)\n",
        "\n",
        "\n",
        "# Imprimir resumen del modelo\n",
        "print(model.summary())\n",
        "\n",
        "#Guarde el modelo model.save('modeloinicial.h5')# pip install h5py\n",
        "model.save('modeloinicial.h5')\n",
        "\n",
        "\n",
        "#Guarde los pesos del modelo mediante: model.save_weights('model_pesos.h5')\n",
        "model.save_weights('model_pesos.h5')\n"
      ],
      "metadata": {
        "colab": {
          "base_uri": "https://localhost:8080/"
        },
        "id": "6lnX5yf_84q_",
        "outputId": "5ecfa34c-4d53-47d5-c9cb-71e4c249f325"
      },
      "execution_count": 210,
      "outputs": [
        {
          "output_type": "stream",
          "name": "stdout",
          "text": [
            "Epoch 1/10\n",
            "300/300 [==============================] - 6s 18ms/step - loss: 0.2894 - accuracy: 0.9184\n",
            "Epoch 2/10\n",
            "300/300 [==============================] - 7s 22ms/step - loss: 0.1208 - accuracy: 0.9643\n",
            "Epoch 3/10\n",
            "300/300 [==============================] - 5s 18ms/step - loss: 0.0831 - accuracy: 0.9750\n",
            "Epoch 4/10\n",
            "300/300 [==============================] - 7s 24ms/step - loss: 0.0618 - accuracy: 0.9819\n",
            "Epoch 5/10\n",
            "300/300 [==============================] - 5s 18ms/step - loss: 0.0474 - accuracy: 0.9862\n",
            "Epoch 6/10\n",
            "300/300 [==============================] - 8s 25ms/step - loss: 0.0367 - accuracy: 0.9890\n",
            "Epoch 7/10\n",
            "300/300 [==============================] - 5s 18ms/step - loss: 0.0304 - accuracy: 0.9911\n",
            "Epoch 8/10\n",
            "300/300 [==============================] - 6s 21ms/step - loss: 0.0249 - accuracy: 0.9929\n",
            "Epoch 9/10\n",
            "300/300 [==============================] - 6s 19ms/step - loss: 0.0208 - accuracy: 0.9939\n",
            "Epoch 10/10\n",
            "300/300 [==============================] - 5s 18ms/step - loss: 0.0181 - accuracy: 0.9947\n",
            "313/313 [==============================] - 2s 6ms/step - loss: 0.0530 - accuracy: 0.9835\n",
            "Loss: 0.05295120179653168\n",
            "Accuracy: 0.9835000038146973\n",
            "Model: \"sequential_27\"\n",
            "_________________________________________________________________\n",
            " Layer (type)                Output Shape              Param #   \n",
            "=================================================================\n",
            " dense_54 (Dense)            (None, 784)               615440    \n",
            "                                                                 \n",
            " dropout_19 (Dropout)        (None, 784)               0         \n",
            "                                                                 \n",
            " dense_55 (Dense)            (None, 10)                7850      \n",
            "                                                                 \n",
            "=================================================================\n",
            "Total params: 623,290\n",
            "Trainable params: 623,290\n",
            "Non-trainable params: 0\n",
            "_________________________________________________________________\n",
            "None\n"
          ]
        }
      ]
    },
    {
      "cell_type": "markdown",
      "source": [
        "# Conclusiones"
      ],
      "metadata": {
        "id": "6Y3TKmUmA1jB"
      }
    },
    {
      "cell_type": "markdown",
      "source": [
        " * Hemos utilizado en la parte inicial el optimizador SGD, y al final con los cambios que nos han solicitado para la actividad se hace uso del optimizador ADAM que se basa en el SGD, siendo más rápido y eficiente.\n",
        "\n",
        " * Se hicieron cambios para visualizar las variaciones que ofrece cambiar hiperparámetros en el entrenamiento del modelo\n",
        "\n",
        " * Se hicieron cambios en la función Loss estableciendola en categorical_crossentropy\n",
        "\n",
        " *Se realizo el guardado del modelo en un archivo el cual puede ser reutilizado, asi como los pesos que se usaron en el modelo\n",
        "\n",
        " *Se evaluaron y hicieron pruebas del modelo\n",
        "\n",
        "\n"
      ],
      "metadata": {
        "id": "eac-sk1rBBcC"
      }
    },
    {
      "cell_type": "code",
      "source": [],
      "metadata": {
        "id": "ktskEs9AClaz"
      },
      "execution_count": 210,
      "outputs": []
    },
    {
      "cell_type": "markdown",
      "source": [
        "# Bibliografía\n",
        "\n",
        "\n",
        "\n",
        "de Moisés, V. M. C. (s/f). Optimizando tus hiper-parámetros: una visión práctica. Paradigmadigital.com. Recuperado el 12 de junio de 2023, de https://www.paradigmadigital.com/dev/optimizando-hiper-parametros-vision-practica/\n",
        "\n",
        "Fernandez, R. (2018a, mayo 28). Utilice los modelos Keras con Scikit-Learn Para el Machine Learning. ▷ Cursos de Programación de 0 a Experto © Garantizados. https://unipython.com/utilice-los-modelos-keras-con-scikit-learn-para-el-machine-learning/\n",
        "\n",
        "Fernandez, R. (2018b, julio 16). Cómo desarrollar modelos de Deep Learning con Keras. ▷ Cursos de Programación de 0 a Experto © Garantizados. https://unipython.com/como-desarrollar-modelos-de-deep-learning-con-keras/\n",
        "\n",
        "Ponce, J. (2022, febrero 7). 3 Maneras de construir un modelo de Aprendizaje Profundo con Keras y Tensorflow 2.0 en Python. Jahaziel Ponce. https://jahazielponce.com/maneras-construir-modelo-keras-tensorflow-python/"
      ],
      "metadata": {
        "id": "GWnnCltnEIj0"
      }
    },
    {
      "cell_type": "code",
      "source": [],
      "metadata": {
        "id": "5JscEhkMEMSr"
      },
      "execution_count": null,
      "outputs": []
    }
  ]
}